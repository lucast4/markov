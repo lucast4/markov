{
 "cells": [
  {
   "cell_type": "code",
   "execution_count": 1,
   "metadata": {},
   "outputs": [],
   "source": [
    "import torch\n",
    "from torch.distributions import RelaxedOneHotCategorical\n",
    "import numpy as np\n",
    "import matplotlib.pyplot as plt\n",
    "%matplotlib inline\n",
    "import torch.functional as F"
   ]
  },
  {
   "cell_type": "code",
   "execution_count": 2,
   "metadata": {},
   "outputs": [
    {
     "name": "stdout",
     "output_type": "stream",
     "text": [
      "loss: 1.6330612897872925\n",
      "loss: 1.5801031589508057\n",
      "loss: 1.5677493810653687\n",
      "loss: 1.467987060546875\n",
      "loss: 1.4565150737762451\n",
      "loss: 1.3994848728179932\n",
      "loss: 1.3807740211486816\n",
      "loss: 1.247685432434082\n",
      "loss: 1.231692910194397\n",
      "loss: 1.2193355560302734\n"
     ]
    },
    {
     "data": {
      "text/plain": [
       "<BarContainer object of 5 artists>"
      ]
     },
     "execution_count": 2,
     "metadata": {},
     "output_type": "execute_result"
    },
    {
     "data": {
      "image/png": "[encoded data removed]",
      "text/plain": [
       "<Figure size 432x288 with 1 Axes>"
      ]
     },
     "metadata": {
      "needs_background": "light"
     },
     "output_type": "display_data"
    }
   ],
   "source": [
    "TEMPERATURE = 10.0\n",
    "TARGET = torch.tensor([3])\n",
    "\n",
    "loss_fn = torch.nn.CrossEntropyLoss()\n",
    "\n",
    "logits = torch.nn.Parameter(torch.ones(5))\n",
    "optimizer = torch.optim.Adam([logits], lr=1e-2)\n",
    "\n",
    "output_dist = RelaxedOneHotCategorical(TEMPERATURE, logits=logits)\n",
    "\n",
    "for step in range(1000):\n",
    "    optimizer.zero_grad()\n",
    "    output_dist = RelaxedOneHotCategorical(TEMPERATURE, logits=logits)\n",
    "    loss = loss_fn(output_dist.rsample()[None, :], TARGET)\n",
    "    loss.backward()\n",
    "    optimizer.step()\n",
    "    if step % 100 == 0:\n",
    "        print('loss: {}'.format(loss))\n",
    "\n",
    "samples = output_dist.sample([1]).detach().numpy()\n",
    "plt.bar(np.arange(5), samples.mean(axis=0))\n"
   ]
  },
  {
   "cell_type": "code",
   "execution_count": 10,
   "metadata": {},
   "outputs": [],
   "source": [
    "TEMPERATURE = 0.9\n",
    "TARGET = torch.tensor([3])\n",
    "logits = torch.nn.Parameter(torch.randn(5))\n",
    "optimizer = torch.optim.Adam([logits], lr=1e-2)\n",
    "\n",
    "for step in range(1000):\n",
    "    optimizer.zero_grad()\n",
    "    \n",
    "    syllable_logprobs = # initial guess\n",
    "\n",
    "    for t in range(T):\n",
    "        syllable_dist = RelaxedOneHotCategorical(TEMPERATURE, logits=syllable_logprobs)\n",
    "        inp = syllable_dist.rsample()\n",
    "        syllable_logprobs = network(inp)\n",
    "        \n",
    "    loss = loss_fn(output_dist.rsample()[None, :], TARGET)\n",
    "    loss.backward()\n",
    "    optimizer.step()\n",
    "    if step % 100 == 0:\n",
    "        print('loss: {}'.format(loss))\n",
    "\n",
    "samples = output_dist.sample([100]).detach().numpy()\n",
    "plt.bar(np.arange(5), samples.mean(axis=0))"
   ]
  }
 ],
 "metadata": {
  "@webio": {
   "lastCommId": null,
   "lastKernelId": null
  },
  "kernelspec": {
   "display_name": "Python 3",
   "language": "python",
   "name": "python3"
  },
  "language_info": {
   "codemirror_mode": {
    "name": "ipython",
    "version": 3
   },
   "file_extension": ".py",
   "mimetype": "text/x-python",
   "name": "python",
   "nbconvert_exporter": "python",
   "pygments_lexer": "ipython3",
   "version": "3.7.1"
  }
 },
 "nbformat": 4,
 "nbformat_minor": 2
}
